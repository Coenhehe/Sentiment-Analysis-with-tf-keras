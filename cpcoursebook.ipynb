{
 "cells": [
  {
   "cell_type": "markdown",
   "metadata": {},
   "source": [
    "*Sentiment Analysis of online comments*"
   ]
  },
  {
   "cell_type": "markdown",
   "metadata": {},
   "source": [
    "Step 1. Preprocess dataset"
   ]
  },
  {
   "cell_type": "code",
   "execution_count": null,
   "metadata": {},
   "outputs": [],
   "source": [
    "#install dependencies\n",
    "%conda install pandas numpy tensorflow sklearn keras nltk"
   ]
  },
  {
   "cell_type": "code",
   "execution_count": null,
   "metadata": {},
   "outputs": [],
   "source": [
    "#import libraries\n",
    "import pandas as pd\n",
    "import numpy as np\n",
    "import tensorflow as tf\n",
    "from sklearn.model_selection import train_test_split\n",
    "import keras.api._v2.keras as keras\n",
    "from keras.preprocessing.text import Tokenizer\n",
    "from keras_preprocessing.sequence import pad_sequences\n",
    "from nltk.corpus import stopwords\n",
    "from nltk.stem import PorterStemmer\n",
    "import nltk\n",
    "from nltk.tokenize import word_tokenize\n",
    "\n",
    "#download packages from nltk\n",
    "nltk.download('punkt')\n",
    "nltk.download('stopwords')"
   ]
  },
  {
   "cell_type": "code",
   "execution_count": null,
   "metadata": {},
   "outputs": [],
   "source": [
    "#read and format the csv in pandas\n",
    "df = pd.read_csv('training.1600000.processed.noemoticon.csv', encoding='latin-1', names=[\"sentiment\", \"ids\", \"date\", \"flag\", \"user\", \"text\"])"
   ]
  },
  {
   "cell_type": "code",
   "execution_count": null,
   "metadata": {},
   "outputs": [],
   "source": [
    "#removing unneeded columns\n",
    "df.drop('ids', inplace=True, axis=1)\n",
    "df.drop('date', inplace=True, axis=1)\n",
    "df.drop('flag', inplace=True, axis=1)\n",
    "df.drop('user', inplace=True, axis=1)"
   ]
  },
  {
   "cell_type": "code",
   "execution_count": null,
   "metadata": {},
   "outputs": [],
   "source": [
    "#cleaning text\n",
    "def caydranisabum():\n",
    "    df.dropna(subset=['text'], inplace=True) #drop missing values\n",
    "    df.drop_duplicates(subset=['text'], inplace=True) #drop duplicates\n",
    "    df['text'] = df['text'].str.lower().str.replace('[^\\w\\s]', '', regex=True) #convert all chars to lowercase\n",
    "\n",
    "caydranisabum()\n"
   ]
  },
  {
   "cell_type": "code",
   "execution_count": null,
   "metadata": {},
   "outputs": [],
   "source": [
    "#tokenisation of tweets using nltk\n",
    "df['tokens'] = df['text'].apply(word_tokenize)"
   ]
  },
  {
   "cell_type": "code",
   "execution_count": null,
   "metadata": {},
   "outputs": [],
   "source": [
    "#removing stopwords\n",
    "stop_words = set(stopwords.words('english'))\n",
    "df['tokens'] = df['tokens'].apply(lambda x: [word for word in x if word not in stop_words])"
   ]
  },
  {
   "cell_type": "code",
   "execution_count": null,
   "metadata": {},
   "outputs": [],
   "source": [
    "#stemming\n",
    "stemmer = PorterStemmer()\n",
    "df['tokens'] = df['tokens'].apply(lambda x: [stemmer.stem(word) for word in x])"
   ]
  },
  {
   "cell_type": "code",
   "execution_count": null,
   "metadata": {},
   "outputs": [],
   "source": [
    "#un-tokenising the preprocessed text\n",
    "df['cleaned_text'] = df['tokens'].apply(lambda x: ' '.join(x))"
   ]
  },
  {
   "cell_type": "code",
   "execution_count": null,
   "metadata": {},
   "outputs": [],
   "source": [
    "#remove unneeded columns\n",
    "df.drop('text', inplace=True, axis=1)\n",
    "df.drop('tokens', inplace=True, axis=1)\n",
    "\n",
    "#the columns shld now be just 'sentiment' and 'cleaned-text'\n",
    "df"
   ]
  },
  {
   "cell_type": "code",
   "execution_count": null,
   "metadata": {},
   "outputs": [],
   "source": [
    "#csv to numpy arr (tensorflow likes numpy arrays)\n",
    "texts = df['cleaned_text'].values\n",
    "labels = df['sentiment'].values\n",
    "\n",
    "print('cleaned text',texts)\n",
    "print('labels',labels)"
   ]
  },
  {
   "cell_type": "markdown",
   "metadata": {},
   "source": [
    "Step 2: Set up our dataset & model for training"
   ]
  },
  {
   "cell_type": "code",
   "execution_count": null,
   "metadata": {},
   "outputs": [],
   "source": [
    "#convert to bin (tensorflow likes binary)\n",
    "from keras.utils import to_categorical\n",
    "labels = to_categorical(labels // 4, num_classes=2)\n",
    "\n",
    "print(labels)"
   ]
  },
  {
   "cell_type": "code",
   "execution_count": null,
   "metadata": {},
   "outputs": [],
   "source": [
    "max_words = 20000  #num ceil\n",
    "max_len = 100  #len ceil\n",
    "\n",
    "tokenizer = Tokenizer(num_words=max_words)\n",
    "tokenizer.fit_on_texts(texts)\n",
    "sequences = tokenizer.texts_to_sequences(texts)\n",
    "word_index = tokenizer.word_index"
   ]
  },
  {
   "cell_type": "code",
   "execution_count": null,
   "metadata": {},
   "outputs": [],
   "source": [
    "#make len same with pad sequences\n",
    "data = pad_sequences(sequences, maxlen=max_len)"
   ]
  },
  {
   "cell_type": "code",
   "execution_count": null,
   "metadata": {},
   "outputs": [],
   "source": [
    "#split data (for loss and accuracy also)\n",
    "X_train, X_test, y_train, y_test = train_test_split(data, labels, test_size=0.2, random_state=42)"
   ]
  },
  {
   "cell_type": "code",
   "execution_count": null,
   "metadata": {},
   "outputs": [],
   "source": [
    "#setting up keras 2 model\n",
    "model = tf.keras.Sequential([\n",
    "    tf.keras.layers.Embedding(input_dim=max_words, output_dim=128, input_length=max_len),\n",
    "    tf.keras.layers.Conv1D(128, 5, activation='relu'),\n",
    "    tf.keras.layers.MaxPooling1D(pool_size=5),\n",
    "    tf.keras.layers.LSTM(128),\n",
    "    tf.keras.layers.Dense(2, activation='softmax')  # Change to 2 output units for 2 classes\n",
    "])\n",
    "\n",
    "model.compile(loss='categorical_crossentropy', optimizer='adam', metrics=['accuracy'])\n"
   ]
  },
  {
   "cell_type": "markdown",
   "metadata": {},
   "source": [
    "Step 3: Training"
   ]
  },
  {
   "cell_type": "code",
   "execution_count": null,
   "metadata": {},
   "outputs": [],
   "source": [
    "#training (10 epochs)\n",
    "batch_size = 32\n",
    "epochs = 10\n",
    "\n",
    "history = model.fit(X_train, y_train, epochs=epochs, batch_size=batch_size, validation_split=0.2)"
   ]
  },
  {
   "cell_type": "code",
   "execution_count": null,
   "metadata": {},
   "outputs": [],
   "source": [
    "#save the model as hdf5\n",
    "model.save('sentiment_analysis_model_2.h5')"
   ]
  },
  {
   "cell_type": "code",
   "execution_count": null,
   "metadata": {},
   "outputs": [],
   "source": [
    "#val loss n accuracy\n",
    "loss, accuracy = model.evaluate(X_test, y_test)\n",
    "print(f'Test Loss: {loss}')\n",
    "print(f'Test Accuracy: {accuracy}')\n"
   ]
  },
  {
   "cell_type": "markdown",
   "metadata": {},
   "source": [
    "Step 4: Using the model to predict sentiment"
   ]
  },
  {
   "cell_type": "code",
   "execution_count": null,
   "metadata": {},
   "outputs": [],
   "source": [
    "#function to use the model, outputs a boolean (negative=false, positive=true)\n",
    "def predict_sentiment(sentence):\n",
    "    #preprocess sentence\n",
    "    sentence = sentence.lower()\n",
    "    tokens = word_tokenize(sentence)\n",
    "    tokens = [stemmer.stem(word) for word in tokens if word not in stop_words]\n",
    "    cleaned_sentence = ' '.join(tokens)\n",
    "    \n",
    "    sequence = tokenizer.texts_to_sequences([cleaned_sentence])\n",
    "    padded_sequence = pad_sequences(sequence, maxlen=max_len)\n",
    "     \n",
    "    #predict\n",
    "    prediction = model.predict(padded_sequence, verbose=0)\n",
    "    sentiment_class = np.argmax(prediction)\n",
    "\n",
    "    #return boolean value\n",
    "    sentiment_map = {0: 0, 1: 4}\n",
    "    if sentiment_map[sentiment_class] == 0:\n",
    "        return False\n",
    "    elif sentiment_map[sentiment_class] == 4:\n",
    "        return True"
   ]
  },
  {
   "cell_type": "code",
   "execution_count": null,
   "metadata": {},
   "outputs": [],
   "source": [
    "#user input\n",
    "tmp = input('Comment: ')\n",
    "\n",
    "print(tmp)\n",
    "\n",
    "#use above function to predict\n",
    "tmp2 = predict_sentiment(tmp)\n",
    "\n",
    "\n",
    "if tmp2 == True:\n",
    "    print('This comment has a positive sentiment.')\n",
    "elif tmp2 == False:\n",
    "    print('This comment has a negative sentiment.')\n",
    "\n",
    "print('')\n",
    "\n",
    "if len(tmp.split()) < 10:\n",
    "    print('Your sentence is ', len(tmp.split()), ' words, it is a short sentence. To get an accurate analysis, please make your sentence at least', 10-len(tmp.split()), ' words longer.')\n",
    "else:\n",
    "    print('Your sentence is ', len(tmp.split()), ' words long. The result should be accurate.')"
   ]
  },
  {
   "cell_type": "markdown",
   "metadata": {},
   "source": [
    "Step 5: Use the saved model (no need for re-training)"
   ]
  },
  {
   "cell_type": "code",
   "execution_count": null,
   "metadata": {},
   "outputs": [],
   "source": [
    "#declare model to use as the saved hdf5 file (shld be in the same directory as this notebook)\n",
    "save_model = tf.keras.models.load_model('sentiment_analysis_model.h5')\n",
    "\n",
    "#summary of the model, just make sure the model is actl detected\n",
    "save_model.summary()"
   ]
  },
  {
   "cell_type": "code",
   "execution_count": null,
   "metadata": {},
   "outputs": [],
   "source": [
    "#setup dependencies for save model\n",
    "stop_words = set(stopwords.words('english'))\n",
    "stemmer = PorterStemmer()\n",
    "\n",
    "max_words = 20000  #num ceil\n",
    "max_len = 100  #len ceil\n",
    "\n",
    "tokenizer = Tokenizer(num_words=max_words)\n",
    "tokenizer.fit_on_texts(texts)\n",
    "\n",
    "\n"
   ]
  },
  {
   "cell_type": "code",
   "execution_count": null,
   "metadata": {},
   "outputs": [],
   "source": [
    "#this is the same function as the one above\n",
    "def predict_sentiment_save(sentence):\n",
    "    sentence = sentence.lower()\n",
    "    tokens = word_tokenize(sentence)\n",
    "    tokens = [stemmer.stem(word) for word in tokens if word not in stop_words]\n",
    "    cleaned_sentence = ' '.join(tokens)\n",
    "    sequence = tokenizer.texts_to_sequences([cleaned_sentence])\n",
    "    padded_sequence = pad_sequences(sequence, maxlen=max_len)\n",
    "    prediction = save_model.predict(padded_sequence, verbose=0)\n",
    "    sentiment_class = np.argmax(prediction)\n",
    "    sentiment_map = {0: 0, 1: 4}\n",
    "    if sentiment_map[sentiment_class] == 0:\n",
    "        return False\n",
    "    else:\n",
    "        return True"
   ]
  },
  {
   "cell_type": "code",
   "execution_count": null,
   "metadata": {},
   "outputs": [],
   "source": [
    "#same input thing as the one above\n",
    "tmp = input('Comment: ')\n",
    "\n",
    "print('Your sentence: ', tmp)\n",
    "print('')\n",
    "\n",
    "tmp2 = predict_sentiment_save(tmp)\n",
    "\n",
    "\n",
    "if tmp2 == True:\n",
    "    print('This comment has a positive sentiment.')\n",
    "elif tmp2 == False:\n",
    "    print('This comment has a negative sentiment.')\n",
    "\n",
    "print('')\n",
    "\n",
    "if len(tmp.split()) < 10:\n",
    "    print('Your sentence is ', len(tmp.split()), ' words, it is a short sentence. To get an accurate analysis, please make your sentence at least', 10-len(tmp.split()), ' words longer.')\n",
    "else:\n",
    "    print('Your sentence is ', len(tmp.split()), ' words long. The result should be accurate.')"
   ]
  }
 ],
 "metadata": {
  "kernelspec": {
   "display_name": "base",
   "language": "python",
   "name": "python3"
  },
  "language_info": {
   "codemirror_mode": {
    "name": "ipython",
    "version": 3
   },
   "file_extension": ".py",
   "mimetype": "text/x-python",
   "name": "python",
   "nbconvert_exporter": "python",
   "pygments_lexer": "ipython3",
   "version": "3.11.5"
  }
 },
 "nbformat": 4,
 "nbformat_minor": 2
}
